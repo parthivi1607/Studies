{
  "nbformat": 4,
  "nbformat_minor": 0,
  "metadata": {
    "colab": {
      "name": "180905456_PPlab5.ipynb",
      "provenance": [],
      "collapsed_sections": []
    },
    "kernelspec": {
      "name": "python3",
      "display_name": "Python 3"
    },
    "language_info": {
      "name": "python"
    },
    "accelerator": "GPU"
  },
  "cells": [
    {
      "cell_type": "markdown",
      "metadata": {
        "id": "BZ8JmyPyH6TI"
      },
      "source": [
        "# PCAP Lab - 5: CUDA\n",
        "\n",
        "<h4>Parthivi Choubey</h4>\n",
        "\n",
        "*180905456*\n",
        "\n",
        "CSE - B - 6th sem\n",
        "\n",
        "Roll. no.: 60"
      ]
    },
    {
      "cell_type": "markdown",
      "metadata": {
        "id": "nfvyiG9qJLNl"
      },
      "source": [
        "# CUDA installation and update"
      ]
    },
    {
      "cell_type": "code",
      "metadata": {
        "id": "I58zrTEmqZoC"
      },
      "source": [
        "%%bash\n",
        "apt-get --purge remove cuda nvidia* libnvidia-*\n",
        "dpkg -l | grep cuda- | awk '{print $2}' | xargs -n1 dpkg --purge\n",
        "apt-get remove cuda-*\n",
        "apt autoremove\n",
        "apt-get update"
      ],
      "execution_count": null,
      "outputs": []
    },
    {
      "cell_type": "code",
      "metadata": {
        "id": "Q6FSaZRCqjr0"
      },
      "source": [
        "%%bash\n",
        "wget https://developer.nvidia.com/compute/cuda/9.2/Prod/local_installers/cuda-repo-ubuntu1604-9-2-local_9.2.88-1_amd64 -O cuda-repo-ubuntu1604-9-2-local_9.2.88-1_amd64.deb\n",
        "dpkg -i cuda-repo-ubuntu1604-9-2-local_9.2.88-1_amd64.deb\n",
        "apt-key add /var/cuda-repo-9-2-local/7fa2af80.pub\n",
        "apt-get update\n",
        "apt-get install cuda-9.2"
      ],
      "execution_count": null,
      "outputs": []
    },
    {
      "cell_type": "code",
      "metadata": {
        "colab": {
          "base_uri": "https://localhost:8080/"
        },
        "id": "pjCEHal0q6O6",
        "outputId": "779ec89d-d241-4247-c0c6-b2cfaeb5c34b"
      },
      "source": [
        "!nvcc --version"
      ],
      "execution_count": null,
      "outputs": [
        {
          "output_type": "stream",
          "text": [
            "nvcc: NVIDIA (R) Cuda compiler driver\n",
            "Copyright (c) 2005-2020 NVIDIA Corporation\n",
            "Built on Wed_Jul_22_19:09:09_PDT_2020\n",
            "Cuda compilation tools, release 11.0, V11.0.221\n",
            "Build cuda_11.0_bu.TC445_37.28845127_0\n"
          ],
          "name": "stdout"
        }
      ]
    },
    {
      "cell_type": "code",
      "metadata": {
        "id": "nkUy_EGfrRfi"
      },
      "source": [
        "!pip install git+git://github.com/andreinechaev/nvcc4jupyter.git"
      ],
      "execution_count": null,
      "outputs": []
    },
    {
      "cell_type": "code",
      "metadata": {
        "colab": {
          "base_uri": "https://localhost:8080/"
        },
        "id": "kIf1qh81rTM6",
        "outputId": "b229b3cc-99e8-46f0-da8b-96184fd2d4b5"
      },
      "source": [
        "%load_ext nvcc_plugin"
      ],
      "execution_count": null,
      "outputs": [
        {
          "output_type": "stream",
          "text": [
            "created output directory at /content/src\n",
            "Out bin /content/result.out\n"
          ],
          "name": "stdout"
        }
      ]
    },
    {
      "cell_type": "markdown",
      "metadata": {
        "id": "OLZobMbzIDry"
      },
      "source": [
        "# Question 1\n",
        "Write and execute a program in CUDA to add two vectors of length N to meet the following requirements using 3 different kernels  \n",
        "\n",
        "1. block size as N  \n",
        "2. N threads within a block\n",
        "3. Keep the number of threads per block as 256 (constant) and vary the number of blocks to handle N elements.  "
      ]
    },
    {
      "cell_type": "code",
      "metadata": {
        "colab": {
          "base_uri": "https://localhost:8080/"
        },
        "id": "7grmpXmZSOvg",
        "outputId": "3c326f76-4f4f-462f-dcf5-ef9c7462517a"
      },
      "source": [
        "%%cu\n",
        "// Q1\n",
        "#include <cuda.h>\n",
        "#include <stdlib.h>\n",
        "#include <stdio.h>\n",
        "\n",
        "__global__ void vecAddKernel(int* a, int* b, int* c, int n)\n",
        "{\n",
        "    int id = threadIdx.x + blockDim.x*blockIdx.x;\n",
        "    if(id<n)\n",
        "        c[id]=a[id]+b[id];\n",
        "}\n",
        "\n",
        "void vecAdd(int* a, int* b, int* c, int n)\n",
        "{\n",
        "    int *d_a, *d_b, *d_c; // Device copies of the variables\n",
        "    int size=n*sizeof(int);\n",
        "    \n",
        "    // Allocate memories to device copies of the objects\n",
        "    cudaMalloc((void**)&d_a, size);\n",
        "    cudaMalloc((void**)&d_b, size);\n",
        "    cudaMalloc((void**)&d_c, size);\n",
        " \n",
        "    // Copy inputs to device\n",
        "    cudaMemcpy(d_a, a, size, cudaMemcpyHostToDevice);\n",
        "    cudaMemcpy(d_b, b, size, cudaMemcpyHostToDevice);\n",
        "\n",
        "    printf(\"A: \");\n",
        "    for (int i = 0; i < n; i++)\n",
        "        printf(\"%d \", a[i]);\n",
        "    printf(\"\\n\");\n",
        " \n",
        "    printf(\"B: \");\n",
        "    for (int i = 0; i < n; i++)\n",
        "        printf(\"%d \", b[i]);\n",
        "    printf(\"\\n\\n\");\n",
        "\n",
        "    vecAddKernel<<<n,1>>>(d_a, d_b, d_c, n); // Launch kernel onto the device\n",
        "    cudaMemcpy(c, d_c, size, cudaMemcpyDeviceToHost); // Copy the result back to the host\n",
        "    printf(\"a+b using %d blocks with 1 thread each: \",n);\n",
        "    for (int i = 0; i < n ; i++)\n",
        "        printf(\"%d \", c[i]);\n",
        "    printf(\"\\n\");\n",
        "\n",
        "    vecAddKernel<<<1,n>>>(d_a, d_b, d_c, n); // Launch kernel onto the device\n",
        "    cudaMemcpy(c, d_c, size, cudaMemcpyDeviceToHost); // Copy the result back to the host\n",
        "    printf(\"a+b using %d threads in 1 block: \",n);\n",
        "    for (int i = 0; i < n ; i++)\n",
        "        printf(\"%d \", c[i]);\n",
        "    printf(\"\\n\");\n",
        "\n",
        "    vecAddKernel<<<ceil(n/256.0),256>>>(d_a, d_b, d_c, n); // Launch kernel onto the device\n",
        "    cudaMemcpy(c, d_c, size, cudaMemcpyDeviceToHost); // Copy the result back to the host\n",
        "    printf(\"a+b using variable blocks and 256 threads: \");\n",
        "    for (int i = 0; i < n ; i++)\n",
        "        printf(\"%d \", c[i]);\n",
        "    printf(\"\\n\");\n",
        " \n",
        "    cudaFree(d_a);\n",
        "    cudaFree(d_b);\n",
        "    cudaFree(d_c);\n",
        "}\n",
        "\n",
        "int main()\n",
        "{\n",
        "    int n = 272;\n",
        "    int h_A[n], h_B[n], h_C[n]; // Host copies of the variables\n",
        " \n",
        "    for (int i = 0; i < n; i++)\n",
        "    {\n",
        "        h_A[i] = i;\n",
        "        h_B[i] = i*4;\n",
        "    }\n",
        "\n",
        "    vecAdd(h_A, h_B, h_C, n);\n",
        "\n",
        "    return 0;\n",
        "}"
      ],
      "execution_count": 40,
      "outputs": [
        {
          "output_type": "stream",
          "text": [
            "A: 0 1 2 3 4 5 6 7 8 9 10 11 12 13 14 15 16 17 18 19 20 21 22 23 24 25 26 27 28 29 30 31 32 33 34 35 36 37 38 39 40 41 42 43 44 45 46 47 48 49 50 51 52 53 54 55 56 57 58 59 60 61 62 63 64 65 66 67 68 69 70 71 72 73 74 75 76 77 78 79 80 81 82 83 84 85 86 87 88 89 90 91 92 93 94 95 96 97 98 99 100 101 102 103 104 105 106 107 108 109 110 111 112 113 114 115 116 117 118 119 120 121 122 123 124 125 126 127 128 129 130 131 132 133 134 135 136 137 138 139 140 141 142 143 144 145 146 147 148 149 150 151 152 153 154 155 156 157 158 159 160 161 162 163 164 165 166 167 168 169 170 171 172 173 174 175 176 177 178 179 180 181 182 183 184 185 186 187 188 189 190 191 192 193 194 195 196 197 198 199 200 201 202 203 204 205 206 207 208 209 210 211 212 213 214 215 216 217 218 219 220 221 222 223 224 225 226 227 228 229 230 231 232 233 234 235 236 237 238 239 240 241 242 243 244 245 246 247 248 249 250 251 252 253 254 255 256 257 258 259 260 261 262 263 264 265 266 267 268 269 270 271 \n",
            "B: 0 4 8 12 16 20 24 28 32 36 40 44 48 52 56 60 64 68 72 76 80 84 88 92 96 100 104 108 112 116 120 124 128 132 136 140 144 148 152 156 160 164 168 172 176 180 184 188 192 196 200 204 208 212 216 220 224 228 232 236 240 244 248 252 256 260 264 268 272 276 280 284 288 292 296 300 304 308 312 316 320 324 328 332 336 340 344 348 352 356 360 364 368 372 376 380 384 388 392 396 400 404 408 412 416 420 424 428 432 436 440 444 448 452 456 460 464 468 472 476 480 484 488 492 496 500 504 508 512 516 520 524 528 532 536 540 544 548 552 556 560 564 568 572 576 580 584 588 592 596 600 604 608 612 616 620 624 628 632 636 640 644 648 652 656 660 664 668 672 676 680 684 688 692 696 700 704 708 712 716 720 724 728 732 736 740 744 748 752 756 760 764 768 772 776 780 784 788 792 796 800 804 808 812 816 820 824 828 832 836 840 844 848 852 856 860 864 868 872 876 880 884 888 892 896 900 904 908 912 916 920 924 928 932 936 940 944 948 952 956 960 964 968 972 976 980 984 988 992 996 1000 1004 1008 1012 1016 1020 1024 1028 1032 1036 1040 1044 1048 1052 1056 1060 1064 1068 1072 1076 1080 1084 \n",
            "\n",
            "a+b using 272 blocks with 1 thread each: 0 5 10 15 20 25 30 35 40 45 50 55 60 65 70 75 80 85 90 95 100 105 110 115 120 125 130 135 140 145 150 155 160 165 170 175 180 185 190 195 200 205 210 215 220 225 230 235 240 245 250 255 260 265 270 275 280 285 290 295 300 305 310 315 320 325 330 335 340 345 350 355 360 365 370 375 380 385 390 395 400 405 410 415 420 425 430 435 440 445 450 455 460 465 470 475 480 485 490 495 500 505 510 515 520 525 530 535 540 545 550 555 560 565 570 575 580 585 590 595 600 605 610 615 620 625 630 635 640 645 650 655 660 665 670 675 680 685 690 695 700 705 710 715 720 725 730 735 740 745 750 755 760 765 770 775 780 785 790 795 800 805 810 815 820 825 830 835 840 845 850 855 860 865 870 875 880 885 890 895 900 905 910 915 920 925 930 935 940 945 950 955 960 965 970 975 980 985 990 995 1000 1005 1010 1015 1020 1025 1030 1035 1040 1045 1050 1055 1060 1065 1070 1075 1080 1085 1090 1095 1100 1105 1110 1115 1120 1125 1130 1135 1140 1145 1150 1155 1160 1165 1170 1175 1180 1185 1190 1195 1200 1205 1210 1215 1220 1225 1230 1235 1240 1245 1250 1255 1260 1265 1270 1275 1280 1285 1290 1295 1300 1305 1310 1315 1320 1325 1330 1335 1340 1345 1350 1355 \n",
            "a+b using 272 threads in 1 block: 0 5 10 15 20 25 30 35 40 45 50 55 60 65 70 75 80 85 90 95 100 105 110 115 120 125 130 135 140 145 150 155 160 165 170 175 180 185 190 195 200 205 210 215 220 225 230 235 240 245 250 255 260 265 270 275 280 285 290 295 300 305 310 315 320 325 330 335 340 345 350 355 360 365 370 375 380 385 390 395 400 405 410 415 420 425 430 435 440 445 450 455 460 465 470 475 480 485 490 495 500 505 510 515 520 525 530 535 540 545 550 555 560 565 570 575 580 585 590 595 600 605 610 615 620 625 630 635 640 645 650 655 660 665 670 675 680 685 690 695 700 705 710 715 720 725 730 735 740 745 750 755 760 765 770 775 780 785 790 795 800 805 810 815 820 825 830 835 840 845 850 855 860 865 870 875 880 885 890 895 900 905 910 915 920 925 930 935 940 945 950 955 960 965 970 975 980 985 990 995 1000 1005 1010 1015 1020 1025 1030 1035 1040 1045 1050 1055 1060 1065 1070 1075 1080 1085 1090 1095 1100 1105 1110 1115 1120 1125 1130 1135 1140 1145 1150 1155 1160 1165 1170 1175 1180 1185 1190 1195 1200 1205 1210 1215 1220 1225 1230 1235 1240 1245 1250 1255 1260 1265 1270 1275 1280 1285 1290 1295 1300 1305 1310 1315 1320 1325 1330 1335 1340 1345 1350 1355 \n",
            "a+b using variable blocks and 256 threads: 0 5 10 15 20 25 30 35 40 45 50 55 60 65 70 75 80 85 90 95 100 105 110 115 120 125 130 135 140 145 150 155 160 165 170 175 180 185 190 195 200 205 210 215 220 225 230 235 240 245 250 255 260 265 270 275 280 285 290 295 300 305 310 315 320 325 330 335 340 345 350 355 360 365 370 375 380 385 390 395 400 405 410 415 420 425 430 435 440 445 450 455 460 465 470 475 480 485 490 495 500 505 510 515 520 525 530 535 540 545 550 555 560 565 570 575 580 585 590 595 600 605 610 615 620 625 630 635 640 645 650 655 660 665 670 675 680 685 690 695 700 705 710 715 720 725 730 735 740 745 750 755 760 765 770 775 780 785 790 795 800 805 810 815 820 825 830 835 840 845 850 855 860 865 870 875 880 885 890 895 900 905 910 915 920 925 930 935 940 945 950 955 960 965 970 975 980 985 990 995 1000 1005 1010 1015 1020 1025 1030 1035 1040 1045 1050 1055 1060 1065 1070 1075 1080 1085 1090 1095 1100 1105 1110 1115 1120 1125 1130 1135 1140 1145 1150 1155 1160 1165 1170 1175 1180 1185 1190 1195 1200 1205 1210 1215 1220 1225 1230 1235 1240 1245 1250 1255 1260 1265 1270 1275 1280 1285 1290 1295 1300 1305 1310 1315 1320 1325 1330 1335 1340 1345 1350 1355 \n",
            "\n"
          ],
          "name": "stdout"
        }
      ]
    },
    {
      "cell_type": "markdown",
      "metadata": {
        "id": "vPdxbQb5IMoE"
      },
      "source": [
        "# Question 2\n",
        "Write  and execute a CUDA program to read an array of N integer values. Sort the array in parallel using parallel selection sort and store the result in another array.  "
      ]
    },
    {
      "cell_type": "code",
      "metadata": {
        "colab": {
          "base_uri": "https://localhost:8080/"
        },
        "id": "20wNnxhDEDNG",
        "outputId": "186a9c29-baa4-43a4-a4fb-4384ef9de7bd"
      },
      "source": [
        "%%cu\n",
        "// Q2\n",
        "#include<stdio.h>\n",
        "#include \"cuda_runtime.h\"\n",
        "#include \"device_launch_parameters.h\"\n",
        "\n",
        "__global__ void selection_sort_parallel(int* a, int* b, int n)\n",
        "{\n",
        "\tint tid=threadIdx.x;\n",
        "  int pos=0;\n",
        "  if(tid<n){\n",
        "      for(int j=0;j<n;j++){\n",
        "          if(a[j]<a[tid]||(a[j]==a[tid] && j<tid)){\n",
        "              pos=pos+1;\n",
        "          }\n",
        "      }\n",
        "      b[pos]=a[tid];\n",
        "  }\n",
        "}\n",
        "\n",
        "int main()\n",
        "{\n",
        "  int n = 10;\n",
        "\tint b[n];\n",
        "\tint *d_a,*d_b; // Device copies of the variables\n",
        "  int size=sizeof(int) * n;\n",
        "  int a[10]={7,69,8,2,420,173,55,8,93,16};\n",
        "  printf(\"Unsorted array \");\n",
        "  for(int i=0;i<n;i++)\n",
        "      printf(\"%d \",a[i]);\n",
        "  printf(\"\\n\");\n",
        " \n",
        "  // Allocate memories to device copies of the objects\n",
        "\tcudaMalloc((void **)&d_a,size);\n",
        "  cudaMalloc((void **)&d_b,size);\n",
        " \n",
        "\tcudaMemcpy(d_a,&a,size,cudaMemcpyHostToDevice);\n",
        "  cudaMemcpy(d_b,&b,size,cudaMemcpyHostToDevice);\n",
        "  selection_sort_parallel<<<1,n>>>(d_a,d_b,n);\n",
        "  cudaMemcpy(&b,d_b,size,cudaMemcpyDeviceToHost);\n",
        "  printf(\"Sorted array \");\n",
        "  for(int i=0;i<n;i++)\n",
        "      printf(\"%d \",b[i]);\n",
        " \n",
        "  cudaFree(d_a);\n",
        "  cudaFree(d_b);\n",
        "}"
      ],
      "execution_count": 42,
      "outputs": [
        {
          "output_type": "stream",
          "text": [
            "Unsorted array 7 69 8 2 420 173 55 8 93 16 \n",
            "Sorted array 2 7 8 8 16 55 69 93 173 420 \n"
          ],
          "name": "stdout"
        }
      ]
    },
    {
      "cell_type": "markdown",
      "metadata": {
        "id": "wFRAVKPEIOeS"
      },
      "source": [
        "# Question 3\n",
        "Write a execute a CUDA program to read an integer array of size N. Sort this array using odd-even transposition sorting. Use 2 kernels."
      ]
    },
    {
      "cell_type": "code",
      "metadata": {
        "colab": {
          "base_uri": "https://localhost:8080/"
        },
        "id": "GQdjCMyS2OZe",
        "outputId": "71d7b301-ca71-4a43-af2c-00723dd679a5"
      },
      "source": [
        "%%cu\n",
        "// Q3\n",
        "#include <stdio.h>\n",
        "#include <stdlib.h>\n",
        "\n",
        "__global__ void oddeven(int *a, int n)\n",
        "{\n",
        "    int temp, id = threadIdx.x + blockDim.x * blockIdx.x;\n",
        "    if(id>n) return;\n",
        "    if(id%2==1 && id+1<n)\n",
        "    {\n",
        "        if(a[id]>a[id+1])\n",
        "        {\n",
        "            temp = a[id];\n",
        "            a[id] = a[id+1];\n",
        "            a[id+1] = temp;\n",
        "        }\n",
        "    }\n",
        "}\n",
        "__global__ void evenodd(int *a, int n)\n",
        "{\n",
        "    int temp, id = threadIdx.x + blockDim.x * blockIdx.x;\n",
        "    if(id>n) return;\n",
        "    if(id%2==0 && id+1<n)\n",
        "    {\n",
        "        if(a[id]>a[id+1])\n",
        "        {\n",
        "            temp = a[id];\n",
        "            a[id] = a[id+1];\n",
        "            a[id+1] = temp;\n",
        "        }\n",
        "    }\n",
        "}\n",
        "void hostfunc(int *a, int n)\n",
        "{\n",
        "    int size = n * sizeof(int);\n",
        "    int *d_a; // Device copy of the variable\n",
        "    cudaMalloc((void**)&d_a,size); // Allocate memory to device copy of the object\n",
        "    cudaMemcpy(d_a,a,size,cudaMemcpyHostToDevice); // Copy input to device\n",
        " \n",
        "    for(int i=0;i<n/2;i++)\n",
        "    {\n",
        "        // Launch kernel onto the device\n",
        "        oddeven<<<1,n>>>(d_a,n);\n",
        "        evenodd<<<1,n>>>(d_a,n);\n",
        "    }\n",
        "    cudaMemcpy(a,d_a,size,cudaMemcpyDeviceToHost); // Copy the result back to the host\n",
        "    cudaFree(d_a);\n",
        "}\n",
        "int main()\n",
        "{\n",
        "    int n=10;\n",
        "    int a[10]={7,69,8,2,420,173,55,8,93,16}; // Host copy of the variable\n",
        "    printf(\"Unsorted array \");\n",
        "    for(int i=0;i<n;i++)\n",
        "      printf(\"%d \",a[i]);\n",
        "    printf(\"\\n\");\n",
        "    hostfunc(a,n);\n",
        "    printf(\"Sorted array \");\n",
        "    for(int i=0;i<n;i++)\n",
        "        printf(\"%d \",a[i]);\n",
        "    printf(\"\\n\");\n",
        "}"
      ],
      "execution_count": 41,
      "outputs": [
        {
          "output_type": "stream",
          "text": [
            "Unsorted array 7 69 8 2 420 173 55 8 93 16 \n",
            "Sorted array 2 7 8 8 16 55 69 93 173 420 \n",
            "\n"
          ],
          "name": "stdout"
        }
      ]
    }
  ]
}