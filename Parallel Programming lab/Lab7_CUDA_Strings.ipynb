{
  "nbformat": 4,
  "nbformat_minor": 0,
  "metadata": {
    "colab": {
      "name": "180905456_PPlab7.ipynb",
      "provenance": [],
      "collapsed_sections": []
    },
    "kernelspec": {
      "name": "python3",
      "display_name": "Python 3"
    },
    "language_info": {
      "name": "python"
    },
    "accelerator": "GPU"
  },
  "cells": [
    {
      "cell_type": "markdown",
      "metadata": {
        "id": "_14IcDKpfxiA"
      },
      "source": [
        "# PCAP Lab 7 - CUDA String\n",
        "\n",
        "<h3>Parthivi Choubey</h3>\n",
        "\n",
        "*180905456*\n",
        "\n",
        "CSE - B - 6th sem\n",
        "\n",
        "Roll. no.: 60"
      ]
    },
    {
      "cell_type": "markdown",
      "metadata": {
        "id": "Q2WIqCnDghnd"
      },
      "source": [
        "# Cuda installation and update"
      ]
    },
    {
      "cell_type": "code",
      "metadata": {
        "colab": {
          "base_uri": "https://localhost:8080/"
        },
        "id": "ZSzw5r2mgBd1",
        "outputId": "96ec4292-5503-44df-dd36-cbeec0f00a35"
      },
      "source": [
        "!nvcc --version"
      ],
      "execution_count": null,
      "outputs": [
        {
          "output_type": "stream",
          "text": [
            "nvcc: NVIDIA (R) Cuda compiler driver\n",
            "Copyright (c) 2005-2020 NVIDIA Corporation\n",
            "Built on Wed_Jul_22_19:09:09_PDT_2020\n",
            "Cuda compilation tools, release 11.0, V11.0.221\n",
            "Build cuda_11.0_bu.TC445_37.28845127_0\n"
          ],
          "name": "stdout"
        }
      ]
    },
    {
      "cell_type": "code",
      "metadata": {
        "colab": {
          "base_uri": "https://localhost:8080/"
        },
        "id": "AtanhkJqgNO8",
        "outputId": "48496e84-d6e5-4c8a-e938-aa458fcc3dd6"
      },
      "source": [
        "!pip install git+git://github.com/andreinechaev/nvcc4jupyter.git"
      ],
      "execution_count": null,
      "outputs": [
        {
          "output_type": "stream",
          "text": [
            "Collecting git+git://github.com/andreinechaev/nvcc4jupyter.git\n",
            "  Cloning git://github.com/andreinechaev/nvcc4jupyter.git to /tmp/pip-req-build-60vrlucy\n",
            "  Running command git clone -q git://github.com/andreinechaev/nvcc4jupyter.git /tmp/pip-req-build-60vrlucy\n",
            "Building wheels for collected packages: NVCCPlugin\n",
            "  Building wheel for NVCCPlugin (setup.py) ... \u001b[?25l\u001b[?25hdone\n",
            "  Created wheel for NVCCPlugin: filename=NVCCPlugin-0.0.2-cp37-none-any.whl size=4307 sha256=9d671845166a9783110bbed8613e7dde9b7066faf47886dd58caa690017a6853\n",
            "  Stored in directory: /tmp/pip-ephem-wheel-cache-chbwhn1_/wheels/10/c2/05/ca241da37bff77d60d31a9174f988109c61ba989e4d4650516\n",
            "Successfully built NVCCPlugin\n",
            "Installing collected packages: NVCCPlugin\n",
            "Successfully installed NVCCPlugin-0.0.2\n"
          ],
          "name": "stdout"
        }
      ]
    },
    {
      "cell_type": "code",
      "metadata": {
        "colab": {
          "base_uri": "https://localhost:8080/"
        },
        "id": "ZAr24UNZgZ1R",
        "outputId": "75e8934a-6446-4485-9982-d70140b24a52"
      },
      "source": [
        "%load_ext nvcc_plugin"
      ],
      "execution_count": null,
      "outputs": [
        {
          "output_type": "stream",
          "text": [
            "created output directory at /content/src\n",
            "Out bin /content/result.out\n"
          ],
          "name": "stdout"
        }
      ]
    },
    {
      "cell_type": "markdown",
      "metadata": {
        "id": "nPrfW2XQglzE"
      },
      "source": [
        "# Question 1\n",
        "\n",
        "Write a program in CUDA to count the number of times a given word is repeated in a sentence. (Use Atomic function)."
      ]
    },
    {
      "cell_type": "code",
      "metadata": {
        "colab": {
          "base_uri": "https://localhost:8080/"
        },
        "id": "QM1M_UNIgcBy",
        "outputId": "7f4cf9e2-c080-491b-922e-41ec3e323355"
      },
      "source": [
        "%%cu\n",
        "#include <cuda.h>\n",
        "#include \"cuda_runtime.h\"\n",
        "#include \"device_launch_parameters.h\"\n",
        "#include <stdio.h>\n",
        "#include <stdlib.h>\n",
        "\n",
        "__global__ void wordCount(char *str,int *d_count,int *len_words,char *word)\n",
        "{\n",
        "    int tempIdx=threadIdx.x;\n",
        "  int idx=0;\n",
        "  for(int i=0;i<tempIdx;i++)\n",
        "    idx += len_words[i]+1;\n",
        " \n",
        "  int flag=0;\n",
        "  for(int i=0;i<len_words[tempIdx];i++)\n",
        "  {\n",
        "      if(str[idx+i]!=word[i])\n",
        "      {\n",
        "          flag=1;\n",
        "          break;\n",
        "      }\n",
        "  }\n",
        "  if(flag==0)\n",
        "    atomicAdd(d_count,1);\n",
        "}\n",
        "\n",
        "int main()\n",
        "{\n",
        "    char str[]=\"hello hello worldworld hello world hello\";\n",
        "  char word[]=\"hello\";\n",
        "  int num_words=1;\n",
        "  int count=0;\n",
        " \n",
        "  //Count number of words\n",
        "  for(int i=0;str[i]!='\\0';i++)\n",
        "    if(str[i]==' ')\n",
        "      num_words++;\n",
        " \n",
        "  //Count length of each word\n",
        "  int len_words[num_words];\n",
        "  int len=0,j=0;\n",
        "  for(int i=0;str[i]!='\\0';i++)\n",
        "  {\n",
        "      len++;\n",
        "      if(str[i]==' ')\n",
        "      {\n",
        "          --len;\n",
        "          len_words[j]=len;\n",
        "          len=0; j++;\n",
        "      }\n",
        "  }\n",
        "  len_words[j]=len;\n",
        " \n",
        "  // Device copies of the variables\n",
        "  char *d_str, *d_word;\n",
        "  int *d_count, *d_len_words;\n",
        "  \n",
        "  // Allocate memories to device copies of the objects\n",
        "  cudaMalloc((void**)&d_str,strlen(str)*sizeof(char));\n",
        "  cudaMalloc((void**)&d_count,sizeof(int));\n",
        "  cudaMalloc((void**)&d_word,strlen(word)*sizeof(char));\n",
        "  cudaMalloc((void**)&d_len_words,num_words*sizeof(int));\n",
        " \n",
        "  //Copy inputs to device\n",
        "  cudaMemcpy(d_str,str,strlen(str)*sizeof(char),cudaMemcpyHostToDevice);\n",
        "  cudaMemcpy(d_word,word,strlen(word)*sizeof(char),cudaMemcpyHostToDevice);\n",
        "  cudaMemcpy(d_len_words,len_words,num_words*sizeof(int),cudaMemcpyHostToDevice);\n",
        "  \n",
        "  wordCount<<<1,num_words>>>(d_str,d_count,d_len_words,d_word); // Launch kernel onto the device\n",
        "  cudaMemcpy(&count,d_count,sizeof(int),cudaMemcpyDeviceToHost); // Copy the result back to the host\n",
        "  printf(\"Total occurences of word \\\"%s\\\" in \\\"%s\\\" is %d\\n\",word,str,count);\n",
        " \n",
        "  cudaFree(d_str);\n",
        "  cudaFree(d_count);\n",
        "  cudaFree(d_word);\n",
        "  cudaFree(d_len_words);\n",
        "  return 0;\n",
        "}"
      ],
      "execution_count": 49,
      "outputs": [
        {
          "output_type": "stream",
          "text": [
            "Total occurences of word \"hello\" in \"hello hello worldworld hello world hello\" is 4\n",
            "\n"
          ],
          "name": "stdout"
        }
      ]
    },
    {
      "cell_type": "markdown",
      "metadata": {
        "id": "kjWcxkJxgtYn"
      },
      "source": [
        "# Question 2\n",
        "\n",
        "Write a CUDA program that reads a string Sin and produces the string Sout as follows:\n",
        "\n",
        " \n",
        "\n",
        "                         Input string Sin: PCAP Output string Sout: PCAPPCAPCP"
      ]
    },
    {
      "cell_type": "code",
      "metadata": {
        "colab": {
          "base_uri": "https://localhost:8080/"
        },
        "id": "EfWZDS09mgBD",
        "outputId": "b1528941-2ea0-4b44-ec95-49cf96b65838"
      },
      "source": [
        "%%cu\n",
        "#include <cuda.h>\n",
        "#include \"cuda_runtime.h\"\n",
        "#include \"device_launch_parameters.h\"\n",
        "#include <stdio.h>\n",
        "#include <stdlib.h>\n",
        "#include <string.h>\n",
        "\n",
        "__global__ void stringgen(char *Sin, char *Sout)\n",
        "{\n",
        "    int len = blockDim.x;\n",
        "    int tempIdx = threadIdx.x + blockIdx.x * blockDim.x;\n",
        "    int idx =0;\n",
        "    for(int i=0;i<tempIdx;i++)\n",
        "      idx += len-i;\n",
        "    for(int i=0;i<(len-tempIdx);i++)\n",
        "      Sout[idx+i] =Sin[i];\n",
        "}\n",
        "\n",
        "int main()\n",
        "{\n",
        "    char Sin[]=\"PCAP\";\n",
        "    int SinLen = strlen(Sin);\n",
        "    int SoutLen = ((SinLen*(SinLen+1))/2);\n",
        "    char Sout[SoutLen];\n",
        "    char result[SoutLen];\n",
        "    char *d_Sin, *d_Sout; // Device copies of the variables\n",
        " \n",
        "    // Allocate memories to device copies of the objects\n",
        "    cudaMalloc((void**)&d_Sin, SinLen*sizeof(char));\n",
        "    cudaMalloc((void**)&d_Sout, SoutLen*sizeof(char));\n",
        " \n",
        "    cudaMemcpy(d_Sin,Sin,SinLen*sizeof(char),cudaMemcpyHostToDevice); // Copy input to device\n",
        "    stringgen<<<1,SinLen>>>(d_Sin,d_Sout); // Launch kernel onto the device\n",
        " \n",
        "    // Copy the result back to the host\n",
        "    cudaMemcpy(Sout,d_Sout,SoutLen*sizeof(char),cudaMemcpyDeviceToHost);\n",
        "    Sout[SoutLen] = '\\0';\n",
        "    printf(\"Final String is: %s\\n\",Sout);\n",
        " \n",
        "    cudaFree(d_Sin);\n",
        "    cudaFree(d_Sout);\n",
        "    return 0;\n",
        "}"
      ],
      "execution_count": 50,
      "outputs": [
        {
          "output_type": "stream",
          "text": [
            "Final String is: PCAPPCAPCP\n",
            "\n"
          ],
          "name": "stdout"
        }
      ]
    },
    {
      "cell_type": "code",
      "metadata": {
        "id": "-zgtO0gAyKa_"
      },
      "source": [
        ""
      ],
      "execution_count": null,
      "outputs": []
    }
  ]
}